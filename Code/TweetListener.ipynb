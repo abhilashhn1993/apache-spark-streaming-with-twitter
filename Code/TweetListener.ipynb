{
 "cells": [
  {
   "cell_type": "code",
   "execution_count": null,
   "metadata": {},
   "outputs": [],
   "source": [
    "import tweepy\n",
    "from tweepy import OAuthHandler\n",
    "from tweepy import Stream\n",
    "from tweepy.streaming import StreamListener\n",
    "import json\n",
    "import socket"
   ]
  },
  {
   "cell_type": "code",
   "execution_count": null,
   "metadata": {},
   "outputs": [],
   "source": [
    "#twitter access keys\n",
    "consumer_key =    ''\n",
    "consumer_secret = ''\n",
    "access_token =    ''\n",
    "access_secret =   ''"
   ]
  },
  {
   "cell_type": "code",
   "execution_count": null,
   "metadata": {},
   "outputs": [],
   "source": [
    "class TweetsListener(StreamListener):\n",
    "    \n",
    "    def __init__(self, csocket):\n",
    "        self.client_socket = csocket\n",
    "        self.counter = 0\n",
    "        self.limit = 1000\n",
    "        \n",
    "    def on_status(self, status):\n",
    "        #print(status.text)\n",
    "        self.counter+=1\n",
    "        if self.counter < self.limit:\n",
    "            return True\n",
    "        else:\n",
    "            return False\n",
    "             \n",
    "    def on_data(self, data):\n",
    "        try:\n",
    "            msg = json.loads(data)\n",
    "            print(msg['text'].encode('utf-8'))\n",
    "            self.client_socket.send(msg['text'].encode('utf-8'))\n",
    "            return True\n",
    "        except BaseException as e:\n",
    "            print(\"Error in on_data: %s\" % str(e))\n",
    "        return True\n",
    "    \n",
    "    def on_error(self, status):\n",
    "        print(status)\n",
    "        return True"
   ]
  },
  {
   "cell_type": "code",
   "execution_count": null,
   "metadata": {},
   "outputs": [],
   "source": [
    "def sendData(c_socket):\n",
    "    auth = OAuthHandler(consumer_key, consumer_secret)\n",
    "    auth.set_access_token(access_token, access_secret)\n",
    "    \n",
    "    twitter_stream = Stream(auth, TweetsListener(c_socket))\n",
    "    twitter_stream.filter(track=['#hospital'])"
   ]
  },
  {
   "cell_type": "code",
   "execution_count": null,
   "metadata": {},
   "outputs": [],
   "source": [
    "if __name__ == \"__main__\":\n",
    "    s = socket.socket()    \n",
    "    host = \"localhost\"      \n",
    "    port = 5555             \n",
    "    s.bind((host, port))   \n",
    " \n",
    "    print(\"Listening on port: %s\" % str(port))\n",
    " \n",
    "    s.listen(5)                 \n",
    "    c, addr = s.accept()        \n",
    " \n",
    "    print( \"Received request from: \" + str( addr ) )\n",
    " \n",
    "    sendData(c)"
   ]
  }
 ],
 "metadata": {
  "kernelspec": {
   "display_name": "Python 3",
   "language": "python",
   "name": "python3"
  },
  "language_info": {
   "codemirror_mode": {
    "name": "ipython",
    "version": 3
   },
   "file_extension": ".py",
   "mimetype": "text/x-python",
   "name": "python",
   "nbconvert_exporter": "python",
   "pygments_lexer": "ipython3",
   "version": "3.8.3"
  }
 },
 "nbformat": 4,
 "nbformat_minor": 4
}
