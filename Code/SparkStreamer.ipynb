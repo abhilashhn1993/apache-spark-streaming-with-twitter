{
 "cells": [
  {
   "cell_type": "code",
   "execution_count": null,
   "metadata": {},
   "outputs": [],
   "source": [
    "from __future__ import print_function\n",
    "from pyspark import SparkContext\n",
    "from pyspark.streaming import StreamingContext\n",
    "import csv"
   ]
  },
  {
   "cell_type": "code",
   "execution_count": 2,
   "metadata": {},
   "outputs": [],
   "source": [
    "def isNotNull(value):\n",
    "    return value is not None and len(value)>0"
   ]
  },
  {
   "cell_type": "code",
   "execution_count": 3,
   "metadata": {},
   "outputs": [],
   "source": [
    "#read the Bing Liu Lexicon dir\n",
    "dict_pos = []\n",
    "dict_neg = []\n",
    "file = open('lexicon_dict/negative-words.txt','r')\n",
    "for line in file:\n",
    "    text= line.strip().lower();\n",
    "    if (isNotNull(text)):\n",
    "        dict_neg.append(text)\n",
    "file.close()\n",
    "\n",
    "file = open('lexicon_dict/positive-words.txt','r')\n",
    "for line in file:\n",
    "    text = line.strip().lower();\n",
    "    if (isNotNull(text)):\n",
    "        dict_pos.append(text)\n",
    "file.close()"
   ]
  },
  {
   "cell_type": "code",
   "execution_count": null,
   "metadata": {},
   "outputs": [],
   "source": [
    "#create spark context and the streaming context\n",
    "sc = SparkContext(\"local[2]\")\n",
    "ssc = StreamingContext(sc,10)\n",
    "IP = \"localhost\"\n",
    "port=5555\n",
    "\n",
    "#Logging control\n",
    "sc.setLogLevel(\"ERROR\")\n",
    "\n",
    "lines = ssc.socketTextStream(IP, port)"
   ]
  },
  {
   "cell_type": "code",
   "execution_count": null,
   "metadata": {},
   "outputs": [],
   "source": [
    "def calculate_sentiment_scores(text):\n",
    "    tokens = text.split(\" \")\n",
    "    #sentiment_score = []\n",
    "    \n",
    "    neg_score = 0\n",
    "    pos_score = 0\n",
    "    \n",
    "    for word in dict_neg:\n",
    "        if (word in tokens):\n",
    "            neg_score = neg_score + 1\n",
    "    \n",
    "    for word in dict_pos:\n",
    "        if (word in tokens):\n",
    "            pos_score= pos_score + 1\n",
    "    \n",
    "    sentiment_score = pos_score - neg_score\n",
    "    return str(sentiment_score)"
   ]
  },
  {
   "cell_type": "code",
   "execution_count": null,
   "metadata": {},
   "outputs": [],
   "source": [
    "with open('Tweets_scores.csv', 'w',encoding = \"utf-8\") as csvFile:\n",
    "     \n",
    "    fieldnames = ['Tweets', 'Sentiment_Score']\n",
    "    writer = csv.DictWriter(csvFile, fieldnames=fieldnames)\n",
    "    writer.writeheader()"
   ]
  },
  {
   "cell_type": "code",
   "execution_count": null,
   "metadata": {},
   "outputs": [],
   "source": [
    "def process_rdd(time, rdd):\n",
    "    print(\"----------- %s -----------\" % str(time))\n",
    "    try:\n",
    "        # Get spark sql singleton context from the current context\n",
    "        arr = rdd.collect()\n",
    "        for i in range(0,len(arr),2):\n",
    "            a = arr[i]\n",
    "            b = arr[i + 1]\n",
    "            print(a)\n",
    "            print(b)\n",
    "        \n",
    "            with open('Tweets_scores.csv', 'a',encoding = \"utf-8\") as csvFile:\n",
    "                fieldnames = ['Tweets', 'Sentiment_Score']\n",
    "                writer = csv.DictWriter(csvFile, fieldnames=fieldnames)\n",
    "                writer.writerow({'Tweets': a, 'Sentiment_Score': b })\n",
    "    except Exception as e:\n",
    "        print(\"Error: %s\",e)"
   ]
  },
  {
   "cell_type": "code",
   "execution_count": null,
   "metadata": {},
   "outputs": [],
   "source": [
    "#tweet.pprint()\n",
    "tweets = lines.flatMap(lambda x: (x,calculate_sentiment_scores(x)))\n",
    "tweets.foreachRDD(process_rdd)"
   ]
  },
  {
   "cell_type": "code",
   "execution_count": null,
   "metadata": {},
   "outputs": [],
   "source": [
    "#Starting the Spark Streaming\n",
    "ssc.start()"
   ]
  },
  {
   "cell_type": "code",
   "execution_count": null,
   "metadata": {
    "scrolled": false
   },
   "outputs": [],
   "source": [
    "ssc.awaitTermination()"
   ]
  }
 ],
 "metadata": {
  "kernelspec": {
   "display_name": "Python 3",
   "language": "python",
   "name": "python3"
  },
  "language_info": {
   "codemirror_mode": {
    "name": "ipython",
    "version": 3
   },
   "file_extension": ".py",
   "mimetype": "text/x-python",
   "name": "python",
   "nbconvert_exporter": "python",
   "pygments_lexer": "ipython3",
   "version": "3.8.3"
  }
 },
 "nbformat": 4,
 "nbformat_minor": 4
}
